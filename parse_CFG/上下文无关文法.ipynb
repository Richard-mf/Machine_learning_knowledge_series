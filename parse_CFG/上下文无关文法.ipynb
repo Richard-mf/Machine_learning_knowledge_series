{
 "cells": [
  {
   "cell_type": "markdown",
   "metadata": {
    "deletable": true,
    "editable": true,
    "slideshow": {
     "slide_type": "slide"
    }
   },
   "source": [
    "# Syntax Parsing - Context Free Grammar\n",
    "## 方敏\n",
    "## 驰声研发"
   ]
  },
  {
   "cell_type": "markdown",
   "metadata": {
    "deletable": true,
    "editable": true,
    "slideshow": {
     "slide_type": "slide"
    }
   },
   "source": [
    "# Outline\n",
    "## 1. 前言\n",
    "## 2. CFG定义\n",
    "## 3. CFG剖析\n",
    "## 4. 关于PCFG"
   ]
  },
  {
   "cell_type": "markdown",
   "metadata": {
    "deletable": true,
    "editable": true,
    "slideshow": {
     "slide_type": "slide"
    }
   },
   "source": [
    "# 1. 前言\n",
    "## 1.1 英语句子结构\n",
    "### 1.1.1 名词短语\n",
    "<img src=\"NP1.png\">\n",
    "<img src=\"NP-verb.png\">\n",
    "<img src=\"wrong_NP-verb.png\">"
   ]
  },
  {
   "cell_type": "markdown",
   "metadata": {
    "slideshow": {
     "slide_type": "slide"
    }
   },
   "source": [
    "### 1.1.2 前置短语\n",
    "<img src=\"prepositional_phrase.png\">\n",
    "<img src=\"wrong_prepositional_phrase.png\">"
   ]
  },
  {
   "cell_type": "markdown",
   "metadata": {
    "slideshow": {
     "slide_type": "slide"
    }
   },
   "source": [
    "## 1.2 Context-Free Grammar, CFG\n",
    "- -> 一种用数学公式、符号描述句子成分（单词）之间关系的理论\n",
    "- -> Phrase-Structure Grammar\n",
    "- -> 其思想是在成分结构基础上构建语法，由Chomsky（1956）正式提出。Backus（1959）也独立地进行了相同的工作。"
   ]
  },
  {
   "cell_type": "markdown",
   "metadata": {
    "slideshow": {
     "slide_type": "slide"
    }
   },
   "source": [
    "# 2. CFG 定义\n",
    "## 2.1 Definition\n",
    "<img src=\"CFG_definition.png\" style=\"width:550px;height:200px\">\n",
    "<img src=\"CFG_deriveing.png\" style=\"width:550px;height:200px\">"
   ]
  },
  {
   "cell_type": "markdown",
   "metadata": {
    "slideshow": {
     "slide_type": "slide"
    }
   },
   "source": [
    "## 2.2 Example a\n",
    "<img src=\"CFG_lexicon.png\" style=\"width:450px;height:150px;float:middle\">\n",
    "<img src=\"CFG_grammar-phrase.png\" style=\"width:400px;height:200px;float:middle\" >\n",
    "<img src=\"CFG_example1.png\" style=\"width:400px;height:200px;float:middle\">"
   ]
  },
  {
   "cell_type": "markdown",
   "metadata": {
    "slideshow": {
     "slide_type": "slide"
    }
   },
   "source": [
    "## 2.2 Example b\n",
    "<img src=\"sentence1.png\" style=\"width:550px;height:160px\">\n",
    "<img src=\"sentence2.png\" style=\"width:550px;height:160px\">\n",
    "<img src=\"sentence3.png\" style=\"width:550px;height:170px\">"
   ]
  },
  {
   "cell_type": "markdown",
   "metadata": {
    "slideshow": {
     "slide_type": "slide"
    }
   },
   "source": [
    "## 2.3 作用与意义\n",
    "### 2.3.1 作用\n",
    "    -> For generating sentences\n",
    "    -> For structure to a given sentence\n",
    "### 2.3.2 用途\n",
    "    -> 自然语言理解模型\n",
    "    -> 语法检查模型\n",
    "    -> 语音理解模型"
   ]
  },
  {
   "cell_type": "markdown",
   "metadata": {
    "slideshow": {
     "slide_type": "slide"
    }
   },
   "source": [
    "## 2.4 Treebanks\n",
    "### 语料来源\n",
    "- Brown\n",
    "- Switchboard（DARPA）\n",
    "- ATIS（关于机票预定的口语语料）\n",
    "- Wall Street Journal corpora of English"
   ]
  },
  {
   "cell_type": "markdown",
   "metadata": {
    "slideshow": {
     "slide_type": "slide"
    }
   },
   "source": [
    "### Example\n",
    "<img src=\"treeBank/example1_p1.png\" style=\"width:600px;height:300px\">\n",
    "<img src=\"treeBank/example1_p2.png\" style=\"width:500px;height:250px\">"
   ]
  },
  {
   "cell_type": "markdown",
   "metadata": {
    "slideshow": {
     "slide_type": "slide"
    }
   },
   "source": [
    "# 3. CFG 剖析\n",
    "## 3.0 把单词的符号串映射到剖析树的问题称为“剖析parse”--搜索\n",
    "## 3.1 自顶向下剖析\n",
    "## 3.2 自底向上剖析\n",
    "## 3.3 自顶向下、深度优先、从左向右剖析\n",
    "## 3.4 以上算法存在的问题\n",
    "## 3.5 Cocke-Kasami-Younger(CKY) algorithm\n"
   ]
  },
  {
   "cell_type": "markdown",
   "metadata": {
    "slideshow": {
     "slide_type": "slide"
    }
   },
   "source": [
    "## 3.1 自顶向下剖析\n",
    "Example： Book that flight\n",
    "<img src=\"parse_top-down/english_micro-gramar-lexicon_dict.png\" style=\"width:400px;height:200px\">\n",
    "<img src=\"parse_top-down/right_parse_book-that-flight.png\" style=\"width:300px;height:280px\">"
   ]
  },
  {
   "cell_type": "markdown",
   "metadata": {
    "slideshow": {
     "slide_type": "subslide"
    }
   },
   "source": [
    "<img src=\"parse_top-down/english_micro-gramar-lexicon_dict.png\" style=\"width:400px;height:200px\">\n",
    "<img src=\"parse_top-down/example1_top-to-down_parse.png\" style=\"width:500px;height:300px\" >"
   ]
  },
  {
   "cell_type": "markdown",
   "metadata": {
    "slideshow": {
     "slide_type": "slide"
    }
   },
   "source": [
    "## 3.2 自底向上剖析\n",
    "Example： Book that flight\n",
    "<img src=\"parse_down-top/example2_down-to-top_parse.png\" style=\"width:500px;height:500px\">"
   ]
  },
  {
   "cell_type": "markdown",
   "metadata": {
    "slideshow": {
     "slide_type": "slide"
    }
   },
   "source": [
    "## 3.3 自顶向下、深度优先、从左向右剖析\n",
    "Example：Does this flight include a meal?\n",
    "<img src=\"parse_top-down/english_micro-gramar-lexicon_dict.png\" style=\"width:400px;height:200px\">"
   ]
  },
  {
   "cell_type": "markdown",
   "metadata": {
    "slideshow": {
     "slide_type": "subslide"
    }
   },
   "source": [
    "<img src=\"parse_top-down_deep-first/parse-s1.png\" style=\"width:400px;height:400px\">\n",
    "<img src=\"parse_top-down_deep-first/parse-s2.png\" style=\"width:400px;height:200px\">"
   ]
  },
  {
   "cell_type": "markdown",
   "metadata": {
    "slideshow": {
     "slide_type": "subslide"
    }
   },
   "source": [
    "<img src=\"parse_top-down_deep-first/parse-s3.png\" style=\"width:400px;height:500px\">"
   ]
  },
  {
   "cell_type": "markdown",
   "metadata": {
    "slideshow": {
     "slide_type": "subslide"
    }
   },
   "source": [
    "<img src=\"parse_top-down/english_micro-gramar-lexicon_dict.png\" style=\"width:400px;height:200px\">\n",
    "<img src=\"parse_top-down_deep-first/parse-s4_prune.png\" style=\"width:250px;height:100px\">"
   ]
  },
  {
   "cell_type": "markdown",
   "metadata": {
    "slideshow": {
     "slide_type": "slide"
    }
   },
   "source": [
    "## 3.4 以上算法存在的问题\n",
    "- --> 相比自底向上，自顶向下策略不会去搜索那些在以S为根的树中找不到位置的子树\n",
    "- --> 自顶向下策略会孳生与输入不一致的根为S的树。\n",
    "- --> 左递归\n",
    "<img src=\"left-recursive.png\" style=\"width:450px;height:150px;float:middle\">"
   ]
  },
  {
   "cell_type": "markdown",
   "metadata": {
    "slideshow": {
     "slide_type": "subslide"
    }
   },
   "source": [
    "- --> 歧义\n",
    "<img src=\"ambiguity_example1.png\" style=\"width:450px;height:250px;float:middle\">"
   ]
  },
  {
   "cell_type": "markdown",
   "metadata": {
    "slideshow": {
     "slide_type": "subslide"
    }
   },
   "source": [
    "- --> 子树的重复剖析\n",
    "<img src=\"subtree_repeat-recursive_problem.png\" style=\"width:450px;height:600px;float:middle\">"
   ]
  },
  {
   "cell_type": "markdown",
   "metadata": {
    "slideshow": {
     "slide_type": "slide"
    }
   },
   "source": [
    "## 3.5 Cocke-Kasami-Younger(CKY) algorithm\n",
    "### 要点：\n",
    "- 句子位置标记$_0 Book_1 that_2 flight_3$\n",
    "- 算法中所有变量放在一个$(n+1)*(n+1)$上三角矩阵中\n",
    "- $n$表示句子长度\n",
    "- 矩阵中元素$cell[i,j]$表示从i到j之间的单词所属的“非终结符”"
   ]
  },
  {
   "cell_type": "markdown",
   "metadata": {
    "slideshow": {
     "slide_type": "slide"
    }
   },
   "source": [
    "### 算法伪代码：\n",
    "<img src=\"CKY/CKY_algorithm.png\" style=\"width:600px;height:230px;float:middle\">"
   ]
  },
  {
   "cell_type": "markdown",
   "metadata": {
    "slideshow": {
     "slide_type": "subslide"
    }
   },
   "source": [
    "<img src=\"CKY/CKY_algorithm_explaning.png\" style=\"width:530px;height:570px;float:middle\">"
   ]
  },
  {
   "cell_type": "markdown",
   "metadata": {
    "slideshow": {
     "slide_type": "slide"
    }
   },
   "source": [
    "### Example: Book the flight throuth Houston\n",
    "<img src=\"CKY/simple-example1.png\" style=\"width:700px;height:375px;float:middle\">"
   ]
  },
  {
   "cell_type": "markdown",
   "metadata": {
    "slideshow": {
     "slide_type": "subslide"
    }
   },
   "source": [
    "<img src=\"CKY/simple-example2_p1.png\" style=\"width:700px;height:375px;float:middle\">"
   ]
  },
  {
   "cell_type": "markdown",
   "metadata": {
    "slideshow": {
     "slide_type": "subslide"
    }
   },
   "source": [
    "<img src=\"CKY/simple-example2_p2.png\" style=\"width:700px;height:350px;float:middle\">"
   ]
  },
  {
   "cell_type": "markdown",
   "metadata": {
    "slideshow": {
     "slide_type": "subslide"
    }
   },
   "source": [
    "<img src=\"CKY/simple-example2_p3.png\" style=\"width:400px;height:400px;float:middle\">"
   ]
  },
  {
   "cell_type": "markdown",
   "metadata": {
    "slideshow": {
     "slide_type": "slide"
    }
   },
   "source": [
    "# 4. 关于PCFG\n",
    "## 4.1 Definition\n",
    "- PCFG\n",
    "<img src=\"PCFG/definition.png\" style=\"width:450px;height:150px\">\n",
    "- CFG\n",
    "<img src=\"CFG_definition.png\" style=\"width:450px;height:150px\">"
   ]
  },
  {
   "cell_type": "markdown",
   "metadata": {
    "slideshow": {
     "slide_type": "subslide"
    }
   },
   "source": [
    "### Dict Example\n",
    "<img src=\"PCFG/dict_example1.png\" style=\"width:450px;height:400px\">"
   ]
  },
  {
   "cell_type": "markdown",
   "metadata": {
    "slideshow": {
     "slide_type": "slide"
    }
   },
   "source": [
    "## 4.2 Example\n",
    "<img src=\"PCFG/PCFG_example1_p1.png\" style=\"width:500px;height:500px\">\n",
    "<img src=\"PCFG/PCFG_example1_p2.png\" style=\"width:450px;height:50px\">"
   ]
  },
  {
   "cell_type": "markdown",
   "metadata": {
    "slideshow": {
     "slide_type": "slide"
    }
   },
   "source": [
    "# END\n",
    "## Thank you !!!"
   ]
  }
 ],
 "metadata": {
  "celltoolbar": "Slideshow",
  "kernelspec": {
   "display_name": "Python 2",
   "language": "python",
   "name": "python2"
  },
  "language_info": {
   "codemirror_mode": {
    "name": "ipython",
    "version": 2
   },
   "file_extension": ".py",
   "mimetype": "text/x-python",
   "name": "python",
   "nbconvert_exporter": "python",
   "pygments_lexer": "ipython2",
   "version": "2.7.6"
  }
 },
 "nbformat": 4,
 "nbformat_minor": 2
}
